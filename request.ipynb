{
 "cells": [
  {
   "cell_type": "code",
   "execution_count": null,
   "id": "b8ad7e39-09e3-4ad3-a3f5-969e1d03f8a7",
   "metadata": {},
   "outputs": [],
   "source": [
    "import requests\n",
    "url =\"http://127.0.0.1.5001/predict\"\n",
    "data={\"feature\":[6,148,72,35,0,33.6,0.627,50]}\n",
    "response = requests.post(url,json=data)\n",
    "print(response.json())"
   ]
  }
 ],
 "metadata": {
  "kernelspec": {
   "display_name": "Python 3 (ipykernel)",
   "language": "python",
   "name": "python3"
  },
  "language_info": {
   "codemirror_mode": {
    "name": "ipython",
    "version": 3
   },
   "file_extension": ".py",
   "mimetype": "text/x-python",
   "name": "python",
   "nbconvert_exporter": "python",
   "pygments_lexer": "ipython3",
   "version": "3.12.7"
  }
 },
 "nbformat": 4,
 "nbformat_minor": 5
}
