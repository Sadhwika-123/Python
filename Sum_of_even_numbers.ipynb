{
 "cells": [
  {
   "cell_type": "code",
   "execution_count": 1,
   "id": "fccddf12",
   "metadata": {},
   "outputs": [
    {
     "name": "stdout",
     "output_type": "stream",
     "text": [
      "Enter a positive integer: 5\n",
      "Sum of all even numbers between 1 and 5 is: 6\n"
     ]
    }
   ],
   "source": [
    "n = int(input(\"Enter a positive integer: \"))\n",
    "sum_even = 0\n",
    "for num in range(1, n+1):\n",
    "    # Check if the number is even\n",
    "    if num % 2 == 0:\n",
    "        sum_even += num\n",
    "print(\"Sum of all even numbers between 1 and\", n, \"is:\", sum_even)\n"
   ]
  },
  {
   "cell_type": "code",
   "execution_count": null,
   "id": "a8679b64",
   "metadata": {},
   "outputs": [],
   "source": []
  }
 ],
 "metadata": {
  "kernelspec": {
   "display_name": "Python 3 (ipykernel)",
   "language": "python",
   "name": "python3"
  },
  "language_info": {
   "codemirror_mode": {
    "name": "ipython",
    "version": 3
   },
   "file_extension": ".py",
   "mimetype": "text/x-python",
   "name": "python",
   "nbconvert_exporter": "python",
   "pygments_lexer": "ipython3",
   "version": "3.11.5"
  }
 },
 "nbformat": 4,
 "nbformat_minor": 5
}
